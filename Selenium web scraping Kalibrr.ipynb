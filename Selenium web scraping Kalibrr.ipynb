{
 "cells": [
  {
   "cell_type": "markdown",
   "metadata": {},
   "source": [
    "# Selenium Kalibrr Job Scraping\n",
    "\n",
    "## Table of Contents: \n",
    "- [Introduction](#introduction) \n",
    "- [Background](#background)\n",
    "- [Environment and Library Setup](#environment)\n",
    "- [Web Scraping Setup & Data Extraction](#webscraping)\n",
    "- [Data Cleaning & Preprocessing](#datacelaning)\n",
    "- [Exploratory Data Analysis](#eda)\n",
    "- [Conclusion](#conclusion)\n",
    "- [References](#references)"
   ]
  },
  {
   "cell_type": "markdown",
   "metadata": {},
   "source": [
    "<a id='introduction'></a>\n",
    "## Introduction \n",
    "\n",
    "With the fast advancement of the technology introduced, there are many available tools that can helped us in doing our work such as web scraping has helped data scientists and analysts in obtaining public information. As business or even anyone can leverage their operations with the introduction of more advanced techonology, data and information has never been more free and will become more crucial in gaining advantage. In this notebook, we will provide a web scraping on Kalibrr job posting site as the example of how we can look and gain insights at the current data for data-related job market, industries and more.  "
   ]
  },
  {
   "cell_type": "markdown",
   "metadata": {},
   "source": [
    "<a id='background'></a>\n",
    "## Background \n",
    "Kalibrr is a job posting platform that connects businesses with talented professionals. With its vast array of job listings, Kalibrr offers a unique opportunity to understand trends in the job market and the ever-evolving demands of various industries. \n",
    "\n",
    "There are a lot of ways to do a webscraping, and this notebook used two popular methods: using **BeautifulSoup** and **Selenium**. While **BeautifulSoup** allows for simple parsing of HTML and XML documents, **Selenium** provides the capability to automate web browser, which can be especially useful for sites that rely on JavaScript or dynamic contents.\n",
    "\n",
    "After extracting the data, we will create a visualizations based on it in order for interpretations. This notebook will create plots to represent the extracted data and showcase how to use flask to make these plots appeared on your web browsers which will allowed you to gains insights on Kalibrr job postings based on their post durations, locations and roles. \n",
    "\n",
    "Let's go! "
   ]
  },
  {
   "cell_type": "markdown",
   "metadata": {},
   "source": [
    "<a id='environment'></a>\n",
    "## Environment and Library Setup \n",
    "These are the necessary steps to prepare the necessary environment and library setup: \n",
    "1. setting up a virtual environment (optional but recommended) \n",
    "2. installing libraries using requirements.txt that are provided \n",
    "3. importing the necessary libraries like below"
   ]
  },
  {
   "cell_type": "code",
   "execution_count": 1,
   "metadata": {},
   "outputs": [],
   "source": [
    "from bs4 import BeautifulSoup\n",
    "from selenium import webdriver\n",
    "from selenium.webdriver.common.by import By\n",
    "from selenium.common.exceptions import NoSuchElementException\n",
    "from selenium.webdriver.chrome.service import Service\n",
    "from selenium.webdriver.chrome.options import Options\n",
    "from webdriver_manager.chrome import ChromeDriverManager #used for chrome so that selenium can automate it\n",
    "from datetime import datetime, timedelta\n",
    "import re\n",
    "import time #for giving pauses between each page to allow loading\n",
    "import pandas as pd \n",
    "import matplotlib.pyplot as plt\n",
    "import seaborn as sb \n",
    "import numpy as np #used for annotations\n",
    "import requests"
   ]
  },
  {
   "cell_type": "markdown",
   "metadata": {},
   "source": [
    "<a id='webscraping'></a>\n",
    "## Web Scraping Setup & Data Extraction\n",
    "In order for us to perform the web scraping successfully, we need to identify the needed informations first in Kalibrr such as: \n",
    "1. Job title such as data analyst, supervisor \n",
    "2. Job description that explains what will they do \n",
    "3. Company's name \n",
    "4. The location of the vacancy \n",
    "5. Posting date and expiry date so we can get the duration of the job postings\n",
    "\n",
    "Below we will get an example of acquiring informations with **BeautifulSoup** web scraping of job titleand by knowing the HTML key for the infromations"
   ]
  },
  {
   "cell_type": "code",
   "execution_count": 3,
   "metadata": {},
   "outputs": [
    {
     "name": "stdout",
     "output_type": "stream",
     "text": [
      "<h2 class=\"k-text-xl k-font-medium\">\n",
      " <a class=\"k-text-primary-color\" href=\"/c/pt-berlian-sistem-informasi/jobs/204136/data-analyst-2\" itemprop=\"name\">\n",
      "  Data Analyst\n",
      " </a>\n",
      "</h2>\n",
      "\n"
     ]
    }
   ],
   "source": [
    "url_get = requests.get('https://www.kalibrr.id/job-board/te/data/1')\n",
    "soup = BeautifulSoup(url_get.content,\"html.parser\")\n",
    "table = soup.find('h2', attrs={'class':'k-text-xl k-font-medium'})\n",
    "print(table.prettify()[:500])"
   ]
  },
  {
   "cell_type": "markdown",
   "metadata": {},
   "source": [
    "After knowing all of the HTML keys, we will use both BeautifulSoup and Selenium to navigate the HTML structure and extracting the needed information.\n",
    "### BeautifulSoup and Selenium\n",
    "**BeautifulSoup** is a library that can quickly find and extract any specific chapter, paragraph or information that you needed while **Selenium** is like a remote control for web browsers where it can be instructed to do any instructions automatically.By combining both, we use **Selenium** to drive the browser, load web pages, click buttons, and fetch dynamic content. Once all the contents are loaded, **BeautifulSoup** helps us pick out the exact pieces of information we want from it quickly. In Kalibrr site, the job description is shortened or tuncated, hence, why we used selenium to click the job posting and extract it correctly \n",
    "\n",
    "We also used webdriver_manager in order download the right driver version for our Chrome browser (ChromeDriverManager), and cache it for future use automatically so that our Selenium can automate our web browsers correctly. By utilizing, all of these 3, we will extract all of the needed information from Kalibrr job posting from the 1st page until the last page"
   ]
  },
  {
   "cell_type": "code",
   "execution_count": 4,
   "metadata": {},
   "outputs": [],
   "source": [
    "# Selenium and BeautifulSoup for scrapping until you cannot click the next page button\n",
    "# Initializing Chrome Driver Manager\n",
    "chrome_options = Options()\n",
    "s = Service(ChromeDriverManager().install())\n",
    "driver = webdriver.Chrome(service=s, options=chrome_options)\n",
    "\n",
    "url = \"https://www.kalibrr.id/job-board/te/data/1\"\n",
    "data = []\n",
    "try:\n",
    "    driver.get(url)\n",
    "    \n",
    "    while True:  #this loop will running until it breaks when there's no or unclickable\"next\" button.\n",
    "        \n",
    "        # Extract job data from current page\n",
    "        soup = BeautifulSoup(driver.page_source, 'html.parser')\n",
    "        jobs = soup.select('div[itemscope][itemtype=\"http://schema.org/ListItem\"]')\n",
    "        for job in jobs:\n",
    "            title = job.select_one('h2 a').text\n",
    "            desc = job.select_one('div.k-text-xs').text.strip()\n",
    "            company = job.select_one('span.k-inline-flex a').text\n",
    "            location = job.find('a', class_='k-text-subdued k-block')\n",
    "            location = location.get_text(strip=True) if location else None\n",
    "            posting_expiry = job.select_one('div.k-text-right span.k-block').text\n",
    "\n",
    "            data.append([title, desc, company, location, posting_expiry])\n",
    "        \n",
    "        # Try to click the next button\n",
    "        try:\n",
    "            next_button = driver.find_element(By.XPATH, \"//a[@aria-label='Next page']\")\n",
    "            aria_disabled = next_button.get_attribute('aria-disabled')\n",
    "    \n",
    "            if aria_disabled == 'true':\n",
    "                break  # Exit the loop if the next button is not clickable\n",
    "    \n",
    "            next_button.click()\n",
    "            time.sleep(2)  # Give some time for the page to load\n",
    "\n",
    "        except Exception as e:\n",
    "            print(f\"Error encountered: {e}\")\n",
    "            break\n",
    "\n",
    "        \n",
    "finally:\n",
    "    driver.quit()\n",
    "    \n",
    "df = pd.DataFrame(data, columns=[\"title\", \"jobdesc\", \"company\", \"location\", \"posting and expiry\"])"
   ]
  },
  {
   "cell_type": "code",
   "execution_count": 5,
   "metadata": {},
   "outputs": [
    {
     "data": {
      "text/html": [
       "<div>\n",
       "<style scoped>\n",
       "    .dataframe tbody tr th:only-of-type {\n",
       "        vertical-align: middle;\n",
       "    }\n",
       "\n",
       "    .dataframe tbody tr th {\n",
       "        vertical-align: top;\n",
       "    }\n",
       "\n",
       "    .dataframe thead th {\n",
       "        text-align: right;\n",
       "    }\n",
       "</style>\n",
       "<table border=\"1\" class=\"dataframe\">\n",
       "  <thead>\n",
       "    <tr style=\"text-align: right;\">\n",
       "      <th></th>\n",
       "      <th>title</th>\n",
       "      <th>jobdesc</th>\n",
       "      <th>company</th>\n",
       "      <th>location</th>\n",
       "      <th>posting and expiry</th>\n",
       "    </tr>\n",
       "  </thead>\n",
       "  <tbody>\n",
       "    <tr>\n",
       "      <th>0</th>\n",
       "      <td>Data Analyst</td>\n",
       "      <td>Support development, enhancement, evaluate and...</td>\n",
       "      <td>PT Berlian Sistem Informasi</td>\n",
       "      <td>East Jakarta, Indonesia</td>\n",
       "      <td>Posted 23 days ago • Apply before 30 Oct</td>\n",
       "    </tr>\n",
       "    <tr>\n",
       "      <th>1</th>\n",
       "      <td>Data Engineer</td>\n",
       "      <td>Liaising with coworkers and clients to elucida...</td>\n",
       "      <td>VLink Inc</td>\n",
       "      <td>Jakarta Selatan, Indonesia</td>\n",
       "      <td>Posted 12 days ago • Apply before 25 Apr</td>\n",
       "    </tr>\n",
       "    <tr>\n",
       "      <th>2</th>\n",
       "      <td>IT Data Center  Monitoring</td>\n",
       "      <td>Analyzing any problems related to tower/rackmo...</td>\n",
       "      <td>PGI Data</td>\n",
       "      <td>Jakarta, Indonesia</td>\n",
       "      <td>Posted 13 days ago • Apply before 30 Oct</td>\n",
       "    </tr>\n",
       "    <tr>\n",
       "      <th>3</th>\n",
       "      <td>Full Stack Developer (ReactJS &amp; Golang)</td>\n",
       "      <td>Design, develop, test, release and improve ser...</td>\n",
       "      <td>PGI Data</td>\n",
       "      <td>Jakarta, Indonesia</td>\n",
       "      <td>Posted 4 days ago • Apply before 20 Sep</td>\n",
       "    </tr>\n",
       "    <tr>\n",
       "      <th>4</th>\n",
       "      <td>Data Engineer</td>\n",
       "      <td>Design, develop &amp; maintaining business intelli...</td>\n",
       "      <td>Magna Solusi Indonesia</td>\n",
       "      <td>Jakarta Selatan, Indonesia</td>\n",
       "      <td>Posted 10 days ago • Apply before 31 Oct</td>\n",
       "    </tr>\n",
       "  </tbody>\n",
       "</table>\n",
       "</div>"
      ],
      "text/plain": [
       "                                     title   \n",
       "0                             Data Analyst  \\\n",
       "1                            Data Engineer   \n",
       "2               IT Data Center  Monitoring   \n",
       "3  Full Stack Developer (ReactJS & Golang)   \n",
       "4                            Data Engineer   \n",
       "\n",
       "                                             jobdesc   \n",
       "0  Support development, enhancement, evaluate and...  \\\n",
       "1  Liaising with coworkers and clients to elucida...   \n",
       "2  Analyzing any problems related to tower/rackmo...   \n",
       "3  Design, develop, test, release and improve ser...   \n",
       "4  Design, develop & maintaining business intelli...   \n",
       "\n",
       "                       company                    location   \n",
       "0  PT Berlian Sistem Informasi     East Jakarta, Indonesia  \\\n",
       "1                    VLink Inc  Jakarta Selatan, Indonesia   \n",
       "2                     PGI Data          Jakarta, Indonesia   \n",
       "3                     PGI Data          Jakarta, Indonesia   \n",
       "4       Magna Solusi Indonesia  Jakarta Selatan, Indonesia   \n",
       "\n",
       "                         posting and expiry  \n",
       "0  Posted 23 days ago • Apply before 30 Oct  \n",
       "1  Posted 12 days ago • Apply before 25 Apr  \n",
       "2  Posted 13 days ago • Apply before 30 Oct  \n",
       "3   Posted 4 days ago • Apply before 20 Sep  \n",
       "4  Posted 10 days ago • Apply before 31 Oct  "
      ]
     },
     "execution_count": 5,
     "metadata": {},
     "output_type": "execute_result"
    }
   ],
   "source": [
    "df.head()"
   ]
  },
  {
   "cell_type": "markdown",
   "metadata": {},
   "source": [
    "<a id='data cleaning'></a>\n",
    "## Data Cleaning & Preprocessing \n",
    "After we get the extracted data, we will try to clean the data and preprocess it into the required information with these steps: \n",
    "1. changing the datatype of date and seperate both posting and expiry date into different columns \n",
    "2. discarding expired entries which expiry date is before today's date and create a post duration column \n",
    "3. extracting data-related job postings with related keywords and create a dataframe based on it \n",
    "4. seperating location column into country and city column and make seperate dataframbe based on job postings in Indonesia "
   ]
  },
  {
   "cell_type": "code",
   "execution_count": 6,
   "metadata": {},
   "outputs": [
    {
     "name": "stdout",
     "output_type": "stream",
     "text": [
      "<class 'pandas.core.frame.DataFrame'>\n",
      "RangeIndex: 918 entries, 0 to 917\n",
      "Data columns (total 5 columns):\n",
      " #   Column              Non-Null Count  Dtype \n",
      "---  ------              --------------  ----- \n",
      " 0   title               918 non-null    object\n",
      " 1   jobdesc             918 non-null    object\n",
      " 2   company             918 non-null    object\n",
      " 3   location            918 non-null    object\n",
      " 4   posting and expiry  918 non-null    object\n",
      "dtypes: object(5)\n",
      "memory usage: 36.0+ KB\n"
     ]
    }
   ],
   "source": [
    "df.info()"
   ]
  },
  {
   "cell_type": "code",
   "execution_count": 7,
   "metadata": {},
   "outputs": [
    {
     "name": "stdout",
     "output_type": "stream",
     "text": [
      "21 days\n",
      "30 Oct\n"
     ]
    }
   ],
   "source": [
    "def extract_dates(date_string):\n",
    "    # Split the string into posting and expiry parts\n",
    "    posting_part, expiry_part = date_string.split('•')\n",
    "    \n",
    "    # Extract details \n",
    "    posting_date = posting_part.strip().replace(\"Posted \", \"\").replace(\" ago\", \"\")\n",
    "    expiry_date = expiry_part.strip().replace(\"Apply before \", \"\")\n",
    "    \n",
    "    return posting_date, expiry_date\n",
    "\n",
    "# Test \n",
    "date_string = \"Posted 21 days ago • Apply before 30 Oct\"\n",
    "posting, expiry = extract_dates(date_string)\n",
    "print(posting)\n",
    "print(expiry)"
   ]
  },
  {
   "cell_type": "code",
   "execution_count": 8,
   "metadata": {},
   "outputs": [],
   "source": [
    "df['posting_date'], df['expiry_date'] = zip(*df['posting and expiry'].map(extract_dates))\n",
    "df.drop(columns=['posting and expiry'], inplace=True)"
   ]
  },
  {
   "cell_type": "code",
   "execution_count": 9,
   "metadata": {},
   "outputs": [
    {
     "data": {
      "text/html": [
       "<div>\n",
       "<style scoped>\n",
       "    .dataframe tbody tr th:only-of-type {\n",
       "        vertical-align: middle;\n",
       "    }\n",
       "\n",
       "    .dataframe tbody tr th {\n",
       "        vertical-align: top;\n",
       "    }\n",
       "\n",
       "    .dataframe thead th {\n",
       "        text-align: right;\n",
       "    }\n",
       "</style>\n",
       "<table border=\"1\" class=\"dataframe\">\n",
       "  <thead>\n",
       "    <tr style=\"text-align: right;\">\n",
       "      <th></th>\n",
       "      <th>title</th>\n",
       "      <th>jobdesc</th>\n",
       "      <th>company</th>\n",
       "      <th>location</th>\n",
       "      <th>posting_date</th>\n",
       "      <th>expiry_date</th>\n",
       "    </tr>\n",
       "  </thead>\n",
       "  <tbody>\n",
       "    <tr>\n",
       "      <th>0</th>\n",
       "      <td>Data Analyst</td>\n",
       "      <td>Support development, enhancement, evaluate and...</td>\n",
       "      <td>PT Berlian Sistem Informasi</td>\n",
       "      <td>East Jakarta, Indonesia</td>\n",
       "      <td>23 days</td>\n",
       "      <td>30 Oct</td>\n",
       "    </tr>\n",
       "    <tr>\n",
       "      <th>1</th>\n",
       "      <td>Data Engineer</td>\n",
       "      <td>Liaising with coworkers and clients to elucida...</td>\n",
       "      <td>VLink Inc</td>\n",
       "      <td>Jakarta Selatan, Indonesia</td>\n",
       "      <td>12 days</td>\n",
       "      <td>25 Apr</td>\n",
       "    </tr>\n",
       "    <tr>\n",
       "      <th>2</th>\n",
       "      <td>IT Data Center  Monitoring</td>\n",
       "      <td>Analyzing any problems related to tower/rackmo...</td>\n",
       "      <td>PGI Data</td>\n",
       "      <td>Jakarta, Indonesia</td>\n",
       "      <td>13 days</td>\n",
       "      <td>30 Oct</td>\n",
       "    </tr>\n",
       "    <tr>\n",
       "      <th>3</th>\n",
       "      <td>Full Stack Developer (ReactJS &amp; Golang)</td>\n",
       "      <td>Design, develop, test, release and improve ser...</td>\n",
       "      <td>PGI Data</td>\n",
       "      <td>Jakarta, Indonesia</td>\n",
       "      <td>4 days</td>\n",
       "      <td>20 Sep</td>\n",
       "    </tr>\n",
       "    <tr>\n",
       "      <th>4</th>\n",
       "      <td>Data Engineer</td>\n",
       "      <td>Design, develop &amp; maintaining business intelli...</td>\n",
       "      <td>Magna Solusi Indonesia</td>\n",
       "      <td>Jakarta Selatan, Indonesia</td>\n",
       "      <td>10 days</td>\n",
       "      <td>31 Oct</td>\n",
       "    </tr>\n",
       "  </tbody>\n",
       "</table>\n",
       "</div>"
      ],
      "text/plain": [
       "                                     title   \n",
       "0                             Data Analyst  \\\n",
       "1                            Data Engineer   \n",
       "2               IT Data Center  Monitoring   \n",
       "3  Full Stack Developer (ReactJS & Golang)   \n",
       "4                            Data Engineer   \n",
       "\n",
       "                                             jobdesc   \n",
       "0  Support development, enhancement, evaluate and...  \\\n",
       "1  Liaising with coworkers and clients to elucida...   \n",
       "2  Analyzing any problems related to tower/rackmo...   \n",
       "3  Design, develop, test, release and improve ser...   \n",
       "4  Design, develop & maintaining business intelli...   \n",
       "\n",
       "                       company                    location posting_date   \n",
       "0  PT Berlian Sistem Informasi     East Jakarta, Indonesia      23 days  \\\n",
       "1                    VLink Inc  Jakarta Selatan, Indonesia      12 days   \n",
       "2                     PGI Data          Jakarta, Indonesia      13 days   \n",
       "3                     PGI Data          Jakarta, Indonesia       4 days   \n",
       "4       Magna Solusi Indonesia  Jakarta Selatan, Indonesia      10 days   \n",
       "\n",
       "  expiry_date  \n",
       "0      30 Oct  \n",
       "1      25 Apr  \n",
       "2      30 Oct  \n",
       "3      20 Sep  \n",
       "4      31 Oct  "
      ]
     },
     "execution_count": 9,
     "metadata": {},
     "output_type": "execute_result"
    }
   ],
   "source": [
    "df.head()"
   ]
  },
  {
   "cell_type": "code",
   "execution_count": 10,
   "metadata": {
    "ExecuteTime": {
     "end_time": "2020-01-13T05:12:59.165559Z",
     "start_time": "2020-01-13T05:12:58.910012Z"
    }
   },
   "outputs": [
    {
     "name": "stdout",
     "output_type": "stream",
     "text": [
      "<class 'pandas.core.frame.DataFrame'>\n",
      "RangeIndex: 918 entries, 0 to 917\n",
      "Data columns (total 6 columns):\n",
      " #   Column        Non-Null Count  Dtype         \n",
      "---  ------        --------------  -----         \n",
      " 0   title         918 non-null    object        \n",
      " 1   jobdesc       918 non-null    object        \n",
      " 2   company       918 non-null    object        \n",
      " 3   location      918 non-null    object        \n",
      " 4   posting_date  918 non-null    datetime64[ns]\n",
      " 5   expiry_date   918 non-null    datetime64[ns]\n",
      "dtypes: datetime64[ns](2), object(4)\n",
      "memory usage: 43.2+ KB\n"
     ]
    }
   ],
   "source": [
    "# Convert 'posting_date' to datetime format\n",
    "today = datetime.today()\n",
    "df['posting_date'] = df['posting_date'].str.extract('(\\d+)')[0].fillna(0).astype(int)\n",
    "df['posting_date'] = today - pd.to_timedelta(df['posting_date'], unit='D')\n",
    "df['posting_date'] = pd.to_datetime(df['posting_date'].dt.date)\n",
    "\n",
    "# Convert 'expiry_date' to datetime format\n",
    "# Assuming the year for the expiry date is the current year\n",
    "df['expiry_date'] = df['expiry_date'] + ' ' + str(today.year)\n",
    "df['expiry_date'] = pd.to_datetime(df['expiry_date'], format='%d %b %Y')\n",
    "\n",
    "df.info()"
   ]
  },
  {
   "cell_type": "code",
   "execution_count": 11,
   "metadata": {},
   "outputs": [],
   "source": [
    "#subset active job posting into df active\n",
    "dfa = df[df['expiry_date'] > today]"
   ]
  },
  {
   "cell_type": "code",
   "execution_count": 12,
   "metadata": {},
   "outputs": [
    {
     "name": "stdout",
     "output_type": "stream",
     "text": [
      "<class 'pandas.core.frame.DataFrame'>\n",
      "Index: 794 entries, 0 to 917\n",
      "Data columns (total 7 columns):\n",
      " #   Column        Non-Null Count  Dtype         \n",
      "---  ------        --------------  -----         \n",
      " 0   title         794 non-null    object        \n",
      " 1   jobdesc       794 non-null    object        \n",
      " 2   company       794 non-null    object        \n",
      " 3   location      794 non-null    object        \n",
      " 4   posting_date  794 non-null    datetime64[ns]\n",
      " 5   expiry_date   794 non-null    datetime64[ns]\n",
      " 6   days_between  794 non-null    int32         \n",
      "dtypes: datetime64[ns](2), int32(1), object(4)\n",
      "memory usage: 46.5+ KB\n"
     ]
    },
    {
     "name": "stderr",
     "output_type": "stream",
     "text": [
      "C:\\Users\\Audi\\AppData\\Local\\Temp\\ipykernel_15764\\701640468.py:1: SettingWithCopyWarning: \n",
      "A value is trying to be set on a copy of a slice from a DataFrame.\n",
      "Try using .loc[row_indexer,col_indexer] = value instead\n",
      "\n",
      "See the caveats in the documentation: https://pandas.pydata.org/pandas-docs/stable/user_guide/indexing.html#returning-a-view-versus-a-copy\n",
      "  dfa['days_between'] = (dfa['expiry_date'] - dfa['posting_date']).dt.days.astype(int)\n"
     ]
    }
   ],
   "source": [
    "dfa['days_between'] = (dfa['expiry_date'] - dfa['posting_date']).dt.days.astype(int)\n",
    "dfa.info()"
   ]
  },
  {
   "cell_type": "code",
   "execution_count": 13,
   "metadata": {},
   "outputs": [
    {
     "name": "stderr",
     "output_type": "stream",
     "text": [
      "C:\\Users\\Audi\\AppData\\Local\\Temp\\ipykernel_15764\\2347732804.py:11: SettingWithCopyWarning: \n",
      "A value is trying to be set on a copy of a slice from a DataFrame.\n",
      "Try using .loc[row_indexer,col_indexer] = value instead\n",
      "\n",
      "See the caveats in the documentation: https://pandas.pydata.org/pandas-docs/stable/user_guide/indexing.html#returning-a-view-versus-a-copy\n",
      "  dfa['post_period'] = dfa['days_between'].apply(duration)\n"
     ]
    }
   ],
   "source": [
    "def duration(days):\n",
    "    if days < 30:\n",
    "        return \"< 1 month\"\n",
    "    elif 30 <= days < 60:\n",
    "        return \"1-2 months\"\n",
    "    elif 60 <= days < 90:\n",
    "        return \"2-3 months\"\n",
    "    else:\n",
    "        return \"> 3 months\"\n",
    "\n",
    "dfa['post_period'] = dfa['days_between'].apply(duration)"
   ]
  },
  {
   "cell_type": "code",
   "execution_count": 14,
   "metadata": {},
   "outputs": [
    {
     "data": {
      "text/plain": [
       "post_period\n",
       "1-2 months    309\n",
       "< 1 month     278\n",
       "> 3 months    136\n",
       "2-3 months     71\n",
       "Name: count, dtype: int64"
      ]
     },
     "execution_count": 14,
     "metadata": {},
     "output_type": "execute_result"
    }
   ],
   "source": [
    "dfa['post_period'].value_counts()"
   ]
  },
  {
   "cell_type": "markdown",
   "metadata": {},
   "source": [
    "We saved this value_counts() dataframe into dfg1 (based on active job posting duration) "
   ]
  },
  {
   "cell_type": "code",
   "execution_count": 15,
   "metadata": {},
   "outputs": [
    {
     "data": {
      "text/html": [
       "<div>\n",
       "<style scoped>\n",
       "    .dataframe tbody tr th:only-of-type {\n",
       "        vertical-align: middle;\n",
       "    }\n",
       "\n",
       "    .dataframe tbody tr th {\n",
       "        vertical-align: top;\n",
       "    }\n",
       "\n",
       "    .dataframe thead th {\n",
       "        text-align: right;\n",
       "    }\n",
       "</style>\n",
       "<table border=\"1\" class=\"dataframe\">\n",
       "  <thead>\n",
       "    <tr style=\"text-align: right;\">\n",
       "      <th></th>\n",
       "      <th>post_period</th>\n",
       "      <th>count</th>\n",
       "    </tr>\n",
       "  </thead>\n",
       "  <tbody>\n",
       "    <tr>\n",
       "      <th>0</th>\n",
       "      <td>1-2 months</td>\n",
       "      <td>309</td>\n",
       "    </tr>\n",
       "    <tr>\n",
       "      <th>1</th>\n",
       "      <td>&lt; 1 month</td>\n",
       "      <td>278</td>\n",
       "    </tr>\n",
       "    <tr>\n",
       "      <th>2</th>\n",
       "      <td>&gt; 3 months</td>\n",
       "      <td>136</td>\n",
       "    </tr>\n",
       "    <tr>\n",
       "      <th>3</th>\n",
       "      <td>2-3 months</td>\n",
       "      <td>71</td>\n",
       "    </tr>\n",
       "  </tbody>\n",
       "</table>\n",
       "</div>"
      ],
      "text/plain": [
       "  post_period  count\n",
       "0  1-2 months    309\n",
       "1   < 1 month    278\n",
       "2  > 3 months    136\n",
       "3  2-3 months     71"
      ]
     },
     "execution_count": 15,
     "metadata": {},
     "output_type": "execute_result"
    }
   ],
   "source": [
    "dfg1 = dfa['post_period'].value_counts().reset_index()\n",
    "dfg1"
   ]
  },
  {
   "cell_type": "markdown",
   "metadata": {},
   "source": [
    "Now, we will moved on to second dataframe where we used regex to extract the necessary keywords that are related with data-related jobs: \n",
    "1. **Data Analyst**: anything that is related with the word 'analyst' (since from the url, we already searched in Kalibrr site with 'data' keyword) \n",
    "2. **Data Scientist**: often associated with machine learning, AI, quantitative researcher \n",
    "3. **Data Engineer**: often associated with database, big data, ETL and cloud \n",
    "\n",
    "And after reclassifying those job titles, we will create a subset of dataframe that only contains data-related jobs with the keywords above (df data) "
   ]
  },
  {
   "cell_type": "code",
   "execution_count": 16,
   "metadata": {},
   "outputs": [],
   "source": [
    "pattern = r'(?i)data scientist|data engineer|quantitative|machine learning\\b|\\bML\\b|\\bAI\\b|analyst|database|big data|ETL|cloud'\n",
    "dfd = dfa[dfa['title'].str.contains(pattern, regex=True)].copy() \n",
    "\n",
    "def data_title(title):\n",
    "    title_lower = title.lower()\n",
    "\n",
    "    if any(keyword in title_lower for keyword in ['data scientist', 'machine learning', 'ml', 'ai', 'quantitative']):\n",
    "        return 'Data Scientist'\n",
    "    elif 'analyst' in title_lower:\n",
    "        return 'Data Analyst'\n",
    "    elif any(keyword in title_lower for keyword in ['data engineer','database', 'big data', 'etl', 'cloud']):\n",
    "        return 'Data Engineer'\n",
    "    else:\n",
    "        return title  # this will retain titles that don't match any of our criteria\n",
    "\n",
    "dfd['title'] = dfd['title'].apply(data_title)"
   ]
  },
  {
   "cell_type": "code",
   "execution_count": 17,
   "metadata": {},
   "outputs": [
    {
     "data": {
      "text/plain": [
       "title\n",
       "Data Analyst      99\n",
       "Data Engineer     34\n",
       "Data Scientist    10\n",
       "Name: count, dtype: int64"
      ]
     },
     "execution_count": 17,
     "metadata": {},
     "output_type": "execute_result"
    }
   ],
   "source": [
    "dfd['title'].value_counts()"
   ]
  },
  {
   "cell_type": "markdown",
   "metadata": {},
   "source": [
    "We saved this value_counts() dataframe into dfg2 (based on data-related job posting)"
   ]
  },
  {
   "cell_type": "code",
   "execution_count": 18,
   "metadata": {},
   "outputs": [
    {
     "data": {
      "text/html": [
       "<div>\n",
       "<style scoped>\n",
       "    .dataframe tbody tr th:only-of-type {\n",
       "        vertical-align: middle;\n",
       "    }\n",
       "\n",
       "    .dataframe tbody tr th {\n",
       "        vertical-align: top;\n",
       "    }\n",
       "\n",
       "    .dataframe thead th {\n",
       "        text-align: right;\n",
       "    }\n",
       "</style>\n",
       "<table border=\"1\" class=\"dataframe\">\n",
       "  <thead>\n",
       "    <tr style=\"text-align: right;\">\n",
       "      <th></th>\n",
       "      <th>title</th>\n",
       "      <th>count</th>\n",
       "    </tr>\n",
       "  </thead>\n",
       "  <tbody>\n",
       "    <tr>\n",
       "      <th>0</th>\n",
       "      <td>Data Analyst</td>\n",
       "      <td>99</td>\n",
       "    </tr>\n",
       "    <tr>\n",
       "      <th>1</th>\n",
       "      <td>Data Engineer</td>\n",
       "      <td>34</td>\n",
       "    </tr>\n",
       "    <tr>\n",
       "      <th>2</th>\n",
       "      <td>Data Scientist</td>\n",
       "      <td>10</td>\n",
       "    </tr>\n",
       "  </tbody>\n",
       "</table>\n",
       "</div>"
      ],
      "text/plain": [
       "            title  count\n",
       "0    Data Analyst     99\n",
       "1   Data Engineer     34\n",
       "2  Data Scientist     10"
      ]
     },
     "execution_count": 18,
     "metadata": {},
     "output_type": "execute_result"
    }
   ],
   "source": [
    "dfg2 = dfd['title'].value_counts().reset_index()\n",
    "dfg2"
   ]
  },
  {
   "cell_type": "markdown",
   "metadata": {},
   "source": [
    "After the second dataframe, we will seperate location column into city and later, country columns which we will use to get dataframe of job-posting only in Indonesian cities  "
   ]
  },
  {
   "cell_type": "code",
   "execution_count": 19,
   "metadata": {},
   "outputs": [
    {
     "name": "stderr",
     "output_type": "stream",
     "text": [
      "C:\\Users\\Audi\\AppData\\Local\\Temp\\ipykernel_15764\\3004754259.py:1: SettingWithCopyWarning: \n",
      "A value is trying to be set on a copy of a slice from a DataFrame.\n",
      "Try using .loc[row_indexer,col_indexer] = value instead\n",
      "\n",
      "See the caveats in the documentation: https://pandas.pydata.org/pandas-docs/stable/user_guide/indexing.html#returning-a-view-versus-a-copy\n",
      "  dfa['country'] = dfa['location'].str.split(',').str[-1].str.strip()\n",
      "C:\\Users\\Audi\\AppData\\Local\\Temp\\ipykernel_15764\\3004754259.py:2: SettingWithCopyWarning: \n",
      "A value is trying to be set on a copy of a slice from a DataFrame.\n",
      "Try using .loc[row_indexer,col_indexer] = value instead\n",
      "\n",
      "See the caveats in the documentation: https://pandas.pydata.org/pandas-docs/stable/user_guide/indexing.html#returning-a-view-versus-a-copy\n",
      "  dfa['city'] = dfa['location'].str.split(',').str[0].str.strip()\n"
     ]
    },
    {
     "data": {
      "text/plain": [
       "country\n",
       "Philippines      522\n",
       "Indonesia        270\n",
       "United States      2\n",
       "Name: count, dtype: int64"
      ]
     },
     "execution_count": 19,
     "metadata": {},
     "output_type": "execute_result"
    }
   ],
   "source": [
    "dfa['country'] = dfa['location'].str.split(',').str[-1].str.strip()\n",
    "dfa['city'] = dfa['location'].str.split(',').str[0].str.strip()\n",
    "dfa['country'].value_counts()"
   ]
  },
  {
   "cell_type": "code",
   "execution_count": 20,
   "metadata": {},
   "outputs": [
    {
     "data": {
      "text/plain": [
       "city\n",
       "Jakarta Selatan           46\n",
       "South Jakarta             43\n",
       "Tangerang                 27\n",
       "Central Jakarta           25\n",
       "West Jakarta              23\n",
       "Jakarta Pusat             18\n",
       "Jakarta                   11\n",
       "Jakarta Barat             11\n",
       "Central Jakarta City       6\n",
       "Kota Jakarta Barat         5\n",
       "Surabaya                   4\n",
       "South Tangerang            4\n",
       "East Jakarta               4\n",
       "Jakarta Timur              4\n",
       "Kota Jakarta Pusat         4\n",
       "Jakarta Utara              3\n",
       "Depok                      3\n",
       "Yogyakarta                 2\n",
       "Makassar                   2\n",
       "Tangerang Kabupaten        2\n",
       "Badung                     2\n",
       "Mataram                    2\n",
       "Banyuwangi                 2\n",
       "Bandung                    2\n",
       "North Jakarta              2\n",
       "South Jakarta City         1\n",
       "Bandung Kota               1\n",
       "Sleman                     1\n",
       "Balikpapan                 1\n",
       "Kota Jakarta Selatan       1\n",
       "Bogor Kota                 1\n",
       "Deli Serdang               1\n",
       "Kota Tangerang Selatan     1\n",
       "Bekasi Regency             1\n",
       "Tangerang Kota             1\n",
       "Cianjur                    1\n",
       "Bekasi Kota                1\n",
       "Denpasar                   1\n",
       "Name: count, dtype: int64"
      ]
     },
     "execution_count": 20,
     "metadata": {},
     "output_type": "execute_result"
    }
   ],
   "source": [
    "dfi = dfa[dfa['country'] == 'Indonesia']\n",
    "dfi['city'].value_counts()"
   ]
  },
  {
   "cell_type": "markdown",
   "metadata": {},
   "source": [
    "Now, after seeing that there are some companies that used different language or terms in expressing their locations even when their meaning is the same such as Central Jakarta and Jakarta pusat. So we decide to recategorized their Indonesian versions into english version"
   ]
  },
  {
   "cell_type": "code",
   "execution_count": 21,
   "metadata": {},
   "outputs": [
    {
     "name": "stderr",
     "output_type": "stream",
     "text": [
      "C:\\Users\\Audi\\AppData\\Local\\Temp\\ipykernel_15764\\1890458047.py:14: SettingWithCopyWarning: \n",
      "A value is trying to be set on a copy of a slice from a DataFrame.\n",
      "Try using .loc[row_indexer,col_indexer] = value instead\n",
      "\n",
      "See the caveats in the documentation: https://pandas.pydata.org/pandas-docs/stable/user_guide/indexing.html#returning-a-view-versus-a-copy\n",
      "  dfi['city'] = dfi['city'].replace(variant, standardized).copy()\n"
     ]
    }
   ],
   "source": [
    "replacement_dict = {\n",
    "    'Central Jakarta': ['Central Jakarta City', 'Kota Jakarta Pusat', 'Jakarta Pusat'],\n",
    "    'South Jakarta': ['Jakarta Selatan', 'Kota Jakarta Selatan', 'South Jakarta City'],\n",
    "    'West Jakarta': ['Jakarta Barat', 'Kota Jakarta Barat'],\n",
    "    'North Jakarta': ['Jakarta Utara'],\n",
    "    'East Jakarta': ['Jakarta Timur'],\n",
    "    'Bandung': ['Bandung Kota'],\n",
    "    'Tangerang': ['Tangerang Kota'],\n",
    "    'South Tangerang': ['Tangerang Selatan', 'Kota Tangerang Selatan']\n",
    "}\n",
    "\n",
    "for standardized, variations in replacement_dict.items():\n",
    "    for variant in variations:\n",
    "        dfi['city'] = dfi['city'].replace(variant, standardized).copy()\n"
   ]
  },
  {
   "cell_type": "code",
   "execution_count": 22,
   "metadata": {},
   "outputs": [
    {
     "data": {
      "text/plain": [
       "city\n",
       "South Jakarta          91\n",
       "Central Jakarta        53\n",
       "West Jakarta           39\n",
       "Tangerang              28\n",
       "Jakarta                11\n",
       "East Jakarta            8\n",
       "North Jakarta           5\n",
       "South Tangerang         5\n",
       "Surabaya                4\n",
       "Depok                   3\n",
       "Bandung                 3\n",
       "Banyuwangi              2\n",
       "Mataram                 2\n",
       "Yogyakarta              2\n",
       "Badung                  2\n",
       "Tangerang Kabupaten     2\n",
       "Makassar                2\n",
       "Cianjur                 1\n",
       "Bekasi Kota             1\n",
       "Sleman                  1\n",
       "Deli Serdang            1\n",
       "Bogor Kota              1\n",
       "Balikpapan              1\n",
       "Bekasi Regency          1\n",
       "Denpasar                1\n",
       "Name: count, dtype: int64"
      ]
     },
     "execution_count": 22,
     "metadata": {},
     "output_type": "execute_result"
    }
   ],
   "source": [
    "dfi['city'].value_counts()"
   ]
  },
  {
   "cell_type": "markdown",
   "metadata": {},
   "source": [
    "Finally, we made the third dataframe as the base of our upcoming plot for number of jobs based on Indonesian cities (we might do a top 10 areas since there are too many variables and might make our plot cluttered"
   ]
  },
  {
   "cell_type": "code",
   "execution_count": 23,
   "metadata": {},
   "outputs": [
    {
     "data": {
      "text/html": [
       "<div>\n",
       "<style scoped>\n",
       "    .dataframe tbody tr th:only-of-type {\n",
       "        vertical-align: middle;\n",
       "    }\n",
       "\n",
       "    .dataframe tbody tr th {\n",
       "        vertical-align: top;\n",
       "    }\n",
       "\n",
       "    .dataframe thead th {\n",
       "        text-align: right;\n",
       "    }\n",
       "</style>\n",
       "<table border=\"1\" class=\"dataframe\">\n",
       "  <thead>\n",
       "    <tr style=\"text-align: right;\">\n",
       "      <th></th>\n",
       "      <th>city</th>\n",
       "      <th>count</th>\n",
       "    </tr>\n",
       "  </thead>\n",
       "  <tbody>\n",
       "    <tr>\n",
       "      <th>0</th>\n",
       "      <td>South Jakarta</td>\n",
       "      <td>91</td>\n",
       "    </tr>\n",
       "    <tr>\n",
       "      <th>1</th>\n",
       "      <td>Central Jakarta</td>\n",
       "      <td>53</td>\n",
       "    </tr>\n",
       "    <tr>\n",
       "      <th>2</th>\n",
       "      <td>West Jakarta</td>\n",
       "      <td>39</td>\n",
       "    </tr>\n",
       "    <tr>\n",
       "      <th>3</th>\n",
       "      <td>Tangerang</td>\n",
       "      <td>28</td>\n",
       "    </tr>\n",
       "    <tr>\n",
       "      <th>4</th>\n",
       "      <td>Jakarta</td>\n",
       "      <td>11</td>\n",
       "    </tr>\n",
       "    <tr>\n",
       "      <th>5</th>\n",
       "      <td>East Jakarta</td>\n",
       "      <td>8</td>\n",
       "    </tr>\n",
       "    <tr>\n",
       "      <th>6</th>\n",
       "      <td>North Jakarta</td>\n",
       "      <td>5</td>\n",
       "    </tr>\n",
       "    <tr>\n",
       "      <th>7</th>\n",
       "      <td>South Tangerang</td>\n",
       "      <td>5</td>\n",
       "    </tr>\n",
       "    <tr>\n",
       "      <th>8</th>\n",
       "      <td>Surabaya</td>\n",
       "      <td>4</td>\n",
       "    </tr>\n",
       "    <tr>\n",
       "      <th>9</th>\n",
       "      <td>Depok</td>\n",
       "      <td>3</td>\n",
       "    </tr>\n",
       "    <tr>\n",
       "      <th>10</th>\n",
       "      <td>Bandung</td>\n",
       "      <td>3</td>\n",
       "    </tr>\n",
       "    <tr>\n",
       "      <th>11</th>\n",
       "      <td>Banyuwangi</td>\n",
       "      <td>2</td>\n",
       "    </tr>\n",
       "    <tr>\n",
       "      <th>12</th>\n",
       "      <td>Mataram</td>\n",
       "      <td>2</td>\n",
       "    </tr>\n",
       "    <tr>\n",
       "      <th>13</th>\n",
       "      <td>Yogyakarta</td>\n",
       "      <td>2</td>\n",
       "    </tr>\n",
       "    <tr>\n",
       "      <th>14</th>\n",
       "      <td>Badung</td>\n",
       "      <td>2</td>\n",
       "    </tr>\n",
       "    <tr>\n",
       "      <th>15</th>\n",
       "      <td>Tangerang Kabupaten</td>\n",
       "      <td>2</td>\n",
       "    </tr>\n",
       "    <tr>\n",
       "      <th>16</th>\n",
       "      <td>Makassar</td>\n",
       "      <td>2</td>\n",
       "    </tr>\n",
       "    <tr>\n",
       "      <th>17</th>\n",
       "      <td>Cianjur</td>\n",
       "      <td>1</td>\n",
       "    </tr>\n",
       "    <tr>\n",
       "      <th>18</th>\n",
       "      <td>Bekasi Kota</td>\n",
       "      <td>1</td>\n",
       "    </tr>\n",
       "    <tr>\n",
       "      <th>19</th>\n",
       "      <td>Sleman</td>\n",
       "      <td>1</td>\n",
       "    </tr>\n",
       "    <tr>\n",
       "      <th>20</th>\n",
       "      <td>Deli Serdang</td>\n",
       "      <td>1</td>\n",
       "    </tr>\n",
       "    <tr>\n",
       "      <th>21</th>\n",
       "      <td>Bogor Kota</td>\n",
       "      <td>1</td>\n",
       "    </tr>\n",
       "    <tr>\n",
       "      <th>22</th>\n",
       "      <td>Balikpapan</td>\n",
       "      <td>1</td>\n",
       "    </tr>\n",
       "    <tr>\n",
       "      <th>23</th>\n",
       "      <td>Bekasi Regency</td>\n",
       "      <td>1</td>\n",
       "    </tr>\n",
       "    <tr>\n",
       "      <th>24</th>\n",
       "      <td>Denpasar</td>\n",
       "      <td>1</td>\n",
       "    </tr>\n",
       "  </tbody>\n",
       "</table>\n",
       "</div>"
      ],
      "text/plain": [
       "                   city  count\n",
       "0         South Jakarta     91\n",
       "1       Central Jakarta     53\n",
       "2          West Jakarta     39\n",
       "3             Tangerang     28\n",
       "4               Jakarta     11\n",
       "5          East Jakarta      8\n",
       "6         North Jakarta      5\n",
       "7       South Tangerang      5\n",
       "8              Surabaya      4\n",
       "9                 Depok      3\n",
       "10              Bandung      3\n",
       "11           Banyuwangi      2\n",
       "12              Mataram      2\n",
       "13           Yogyakarta      2\n",
       "14               Badung      2\n",
       "15  Tangerang Kabupaten      2\n",
       "16             Makassar      2\n",
       "17              Cianjur      1\n",
       "18          Bekasi Kota      1\n",
       "19               Sleman      1\n",
       "20         Deli Serdang      1\n",
       "21           Bogor Kota      1\n",
       "22           Balikpapan      1\n",
       "23       Bekasi Regency      1\n",
       "24             Denpasar      1"
      ]
     },
     "execution_count": 23,
     "metadata": {},
     "output_type": "execute_result"
    }
   ],
   "source": [
    "dfg3 = dfi['city'].value_counts().reset_index()\n",
    "dfg3"
   ]
  },
  {
   "cell_type": "markdown",
   "metadata": {},
   "source": [
    "### Bonus analysis \n",
    "Since we have seen that there are other countries beside Indonesia in Kalibrr job postings, we might be able to compare both data job posting durations and data job titles between Indonesia and other countries. For now, we will create 2 dataframes which are representing that.  "
   ]
  },
  {
   "cell_type": "code",
   "execution_count": 24,
   "metadata": {},
   "outputs": [
    {
     "data": {
      "text/html": [
       "<div>\n",
       "<style scoped>\n",
       "    .dataframe tbody tr th:only-of-type {\n",
       "        vertical-align: middle;\n",
       "    }\n",
       "\n",
       "    .dataframe tbody tr th {\n",
       "        vertical-align: top;\n",
       "    }\n",
       "\n",
       "    .dataframe thead th {\n",
       "        text-align: right;\n",
       "    }\n",
       "</style>\n",
       "<table border=\"1\" class=\"dataframe\">\n",
       "  <thead>\n",
       "    <tr style=\"text-align: right;\">\n",
       "      <th></th>\n",
       "      <th>title</th>\n",
       "      <th>jobdesc</th>\n",
       "      <th>company</th>\n",
       "      <th>location</th>\n",
       "      <th>posting_date</th>\n",
       "      <th>expiry_date</th>\n",
       "      <th>days_between</th>\n",
       "      <th>post_period</th>\n",
       "      <th>country</th>\n",
       "    </tr>\n",
       "  </thead>\n",
       "  <tbody>\n",
       "    <tr>\n",
       "      <th>0</th>\n",
       "      <td>Data Analyst</td>\n",
       "      <td>Support development, enhancement, evaluate and...</td>\n",
       "      <td>PT Berlian Sistem Informasi</td>\n",
       "      <td>East Jakarta, Indonesia</td>\n",
       "      <td>2023-08-11</td>\n",
       "      <td>2023-10-30</td>\n",
       "      <td>80</td>\n",
       "      <td>2-3 months</td>\n",
       "      <td>Indonesia</td>\n",
       "    </tr>\n",
       "    <tr>\n",
       "      <th>4</th>\n",
       "      <td>Data Engineer</td>\n",
       "      <td>Design, develop &amp; maintaining business intelli...</td>\n",
       "      <td>Magna Solusi Indonesia</td>\n",
       "      <td>Jakarta Selatan, Indonesia</td>\n",
       "      <td>2023-08-24</td>\n",
       "      <td>2023-10-31</td>\n",
       "      <td>68</td>\n",
       "      <td>2-3 months</td>\n",
       "      <td>Indonesia</td>\n",
       "    </tr>\n",
       "    <tr>\n",
       "      <th>6</th>\n",
       "      <td>Data Engineer</td>\n",
       "      <td>Building Collaborate with cross-functional tea...</td>\n",
       "      <td>Quantyc.ai</td>\n",
       "      <td>Jakarta Selatan, Indonesia</td>\n",
       "      <td>2023-08-18</td>\n",
       "      <td>2023-10-16</td>\n",
       "      <td>59</td>\n",
       "      <td>1-2 months</td>\n",
       "      <td>Indonesia</td>\n",
       "    </tr>\n",
       "    <tr>\n",
       "      <th>8</th>\n",
       "      <td>Data Engineer</td>\n",
       "      <td>Lead Data Engineering and Data Analytics to ac...</td>\n",
       "      <td>Astra Financial</td>\n",
       "      <td>Central Jakarta City, Indonesia</td>\n",
       "      <td>2023-08-15</td>\n",
       "      <td>2023-10-14</td>\n",
       "      <td>60</td>\n",
       "      <td>2-3 months</td>\n",
       "      <td>Indonesia</td>\n",
       "    </tr>\n",
       "    <tr>\n",
       "      <th>9</th>\n",
       "      <td>Data Engineer</td>\n",
       "      <td>Responsible to support digital business to not...</td>\n",
       "      <td>Hana Bank</td>\n",
       "      <td>Jakarta Selatan, Indonesia</td>\n",
       "      <td>2023-09-01</td>\n",
       "      <td>2023-09-30</td>\n",
       "      <td>29</td>\n",
       "      <td>&lt; 1 month</td>\n",
       "      <td>Indonesia</td>\n",
       "    </tr>\n",
       "    <tr>\n",
       "      <th>...</th>\n",
       "      <td>...</td>\n",
       "      <td>...</td>\n",
       "      <td>...</td>\n",
       "      <td>...</td>\n",
       "      <td>...</td>\n",
       "      <td>...</td>\n",
       "      <td>...</td>\n",
       "      <td>...</td>\n",
       "      <td>...</td>\n",
       "    </tr>\n",
       "    <tr>\n",
       "      <th>886</th>\n",
       "      <td>Data Analyst</td>\n",
       "      <td>Application Reminder: We appreciate your inter...</td>\n",
       "      <td>Accenture Philippines</td>\n",
       "      <td>Quezon City, Philippines</td>\n",
       "      <td>2023-09-01</td>\n",
       "      <td>2023-09-09</td>\n",
       "      <td>8</td>\n",
       "      <td>&lt; 1 month</td>\n",
       "      <td>Philippines</td>\n",
       "    </tr>\n",
       "    <tr>\n",
       "      <th>892</th>\n",
       "      <td>Data Engineer</td>\n",
       "      <td>As  the IT Solution Architect, you will play a...</td>\n",
       "      <td>Höegh LNG Services ROHQ</td>\n",
       "      <td>Makati, Philippines</td>\n",
       "      <td>2023-09-03</td>\n",
       "      <td>2023-09-29</td>\n",
       "      <td>26</td>\n",
       "      <td>&lt; 1 month</td>\n",
       "      <td>Philippines</td>\n",
       "    </tr>\n",
       "    <tr>\n",
       "      <th>893</th>\n",
       "      <td>Data Engineer</td>\n",
       "      <td>SQL Database Administrator (Mid-Senior level, ...</td>\n",
       "      <td>Cignal TV, Inc.</td>\n",
       "      <td>Mandaluyong, Philippines</td>\n",
       "      <td>2023-08-10</td>\n",
       "      <td>2023-09-30</td>\n",
       "      <td>51</td>\n",
       "      <td>1-2 months</td>\n",
       "      <td>Philippines</td>\n",
       "    </tr>\n",
       "    <tr>\n",
       "      <th>900</th>\n",
       "      <td>Data Scientist</td>\n",
       "      <td>Application Reminder: We appreciate your inter...</td>\n",
       "      <td>Accenture Philippines</td>\n",
       "      <td>Quezon City, Philippines</td>\n",
       "      <td>2023-09-01</td>\n",
       "      <td>2023-09-09</td>\n",
       "      <td>8</td>\n",
       "      <td>&lt; 1 month</td>\n",
       "      <td>Philippines</td>\n",
       "    </tr>\n",
       "    <tr>\n",
       "      <th>904</th>\n",
       "      <td>Data Analyst</td>\n",
       "      <td>Application Reminder: We appreciate your inter...</td>\n",
       "      <td>Accenture Philippines</td>\n",
       "      <td>Mandaluyong, Philippines</td>\n",
       "      <td>2023-09-01</td>\n",
       "      <td>2023-09-14</td>\n",
       "      <td>13</td>\n",
       "      <td>&lt; 1 month</td>\n",
       "      <td>Philippines</td>\n",
       "    </tr>\n",
       "  </tbody>\n",
       "</table>\n",
       "<p>143 rows × 9 columns</p>\n",
       "</div>"
      ],
      "text/plain": [
       "              title                                            jobdesc   \n",
       "0      Data Analyst  Support development, enhancement, evaluate and...  \\\n",
       "4     Data Engineer  Design, develop & maintaining business intelli...   \n",
       "6     Data Engineer  Building Collaborate with cross-functional tea...   \n",
       "8     Data Engineer  Lead Data Engineering and Data Analytics to ac...   \n",
       "9     Data Engineer  Responsible to support digital business to not...   \n",
       "..              ...                                                ...   \n",
       "886    Data Analyst  Application Reminder: We appreciate your inter...   \n",
       "892   Data Engineer  As  the IT Solution Architect, you will play a...   \n",
       "893   Data Engineer  SQL Database Administrator (Mid-Senior level, ...   \n",
       "900  Data Scientist  Application Reminder: We appreciate your inter...   \n",
       "904    Data Analyst  Application Reminder: We appreciate your inter...   \n",
       "\n",
       "                         company                         location   \n",
       "0    PT Berlian Sistem Informasi          East Jakarta, Indonesia  \\\n",
       "4         Magna Solusi Indonesia       Jakarta Selatan, Indonesia   \n",
       "6                     Quantyc.ai       Jakarta Selatan, Indonesia   \n",
       "8                Astra Financial  Central Jakarta City, Indonesia   \n",
       "9                      Hana Bank       Jakarta Selatan, Indonesia   \n",
       "..                           ...                              ...   \n",
       "886        Accenture Philippines         Quezon City, Philippines   \n",
       "892      Höegh LNG Services ROHQ              Makati, Philippines   \n",
       "893              Cignal TV, Inc.         Mandaluyong, Philippines   \n",
       "900        Accenture Philippines         Quezon City, Philippines   \n",
       "904        Accenture Philippines         Mandaluyong, Philippines   \n",
       "\n",
       "    posting_date expiry_date  days_between post_period      country  \n",
       "0     2023-08-11  2023-10-30            80  2-3 months    Indonesia  \n",
       "4     2023-08-24  2023-10-31            68  2-3 months    Indonesia  \n",
       "6     2023-08-18  2023-10-16            59  1-2 months    Indonesia  \n",
       "8     2023-08-15  2023-10-14            60  2-3 months    Indonesia  \n",
       "9     2023-09-01  2023-09-30            29   < 1 month    Indonesia  \n",
       "..           ...         ...           ...         ...          ...  \n",
       "886   2023-09-01  2023-09-09             8   < 1 month  Philippines  \n",
       "892   2023-09-03  2023-09-29            26   < 1 month  Philippines  \n",
       "893   2023-08-10  2023-09-30            51  1-2 months  Philippines  \n",
       "900   2023-09-01  2023-09-09             8   < 1 month  Philippines  \n",
       "904   2023-09-01  2023-09-14            13   < 1 month  Philippines  \n",
       "\n",
       "[143 rows x 9 columns]"
      ]
     },
     "execution_count": 24,
     "metadata": {},
     "output_type": "execute_result"
    }
   ],
   "source": [
    "dfd['country'] = dfd['location'].str.split(',').str[-1].str.strip()\n",
    "dfd"
   ]
  },
  {
   "cell_type": "code",
   "execution_count": 25,
   "metadata": {},
   "outputs": [
    {
     "name": "stdout",
     "output_type": "stream",
     "text": [
      "country\n",
      "Indonesia      60.818182\n",
      "Philippines    45.000000\n",
      "Name: days_between, dtype: float64\n"
     ]
    }
   ],
   "source": [
    "avg_duration = dfd.groupby('country')['days_between'].mean()\n",
    "print(avg_duration)"
   ]
  },
  {
   "cell_type": "code",
   "execution_count": 26,
   "metadata": {},
   "outputs": [
    {
     "data": {
      "text/html": [
       "<div>\n",
       "<style scoped>\n",
       "    .dataframe tbody tr th:only-of-type {\n",
       "        vertical-align: middle;\n",
       "    }\n",
       "\n",
       "    .dataframe tbody tr th {\n",
       "        vertical-align: top;\n",
       "    }\n",
       "\n",
       "    .dataframe thead th {\n",
       "        text-align: right;\n",
       "    }\n",
       "</style>\n",
       "<table border=\"1\" class=\"dataframe\">\n",
       "  <thead>\n",
       "    <tr style=\"text-align: right;\">\n",
       "      <th></th>\n",
       "      <th>country</th>\n",
       "      <th>post_period</th>\n",
       "      <th>count</th>\n",
       "    </tr>\n",
       "  </thead>\n",
       "  <tbody>\n",
       "    <tr>\n",
       "      <th>0</th>\n",
       "      <td>Indonesia</td>\n",
       "      <td>1-2 months</td>\n",
       "      <td>19</td>\n",
       "    </tr>\n",
       "    <tr>\n",
       "      <th>1</th>\n",
       "      <td>Indonesia</td>\n",
       "      <td>2-3 months</td>\n",
       "      <td>12</td>\n",
       "    </tr>\n",
       "    <tr>\n",
       "      <th>2</th>\n",
       "      <td>Indonesia</td>\n",
       "      <td>&lt; 1 month</td>\n",
       "      <td>13</td>\n",
       "    </tr>\n",
       "    <tr>\n",
       "      <th>3</th>\n",
       "      <td>Indonesia</td>\n",
       "      <td>&gt; 3 months</td>\n",
       "      <td>11</td>\n",
       "    </tr>\n",
       "    <tr>\n",
       "      <th>4</th>\n",
       "      <td>Philippines</td>\n",
       "      <td>1-2 months</td>\n",
       "      <td>38</td>\n",
       "    </tr>\n",
       "    <tr>\n",
       "      <th>5</th>\n",
       "      <td>Philippines</td>\n",
       "      <td>2-3 months</td>\n",
       "      <td>1</td>\n",
       "    </tr>\n",
       "    <tr>\n",
       "      <th>6</th>\n",
       "      <td>Philippines</td>\n",
       "      <td>&lt; 1 month</td>\n",
       "      <td>34</td>\n",
       "    </tr>\n",
       "    <tr>\n",
       "      <th>7</th>\n",
       "      <td>Philippines</td>\n",
       "      <td>&gt; 3 months</td>\n",
       "      <td>15</td>\n",
       "    </tr>\n",
       "  </tbody>\n",
       "</table>\n",
       "</div>"
      ],
      "text/plain": [
       "       country post_period  count\n",
       "0    Indonesia  1-2 months     19\n",
       "1    Indonesia  2-3 months     12\n",
       "2    Indonesia   < 1 month     13\n",
       "3    Indonesia  > 3 months     11\n",
       "4  Philippines  1-2 months     38\n",
       "5  Philippines  2-3 months      1\n",
       "6  Philippines   < 1 month     34\n",
       "7  Philippines  > 3 months     15"
      ]
     },
     "execution_count": 26,
     "metadata": {},
     "output_type": "execute_result"
    }
   ],
   "source": [
    "dfg4 = dfd.groupby('country')['post_period'].value_counts().unstack().fillna(0).stack().reset_index(name='count')\n",
    "dfg4"
   ]
  },
  {
   "cell_type": "code",
   "execution_count": 27,
   "metadata": {
    "scrolled": true
   },
   "outputs": [
    {
     "data": {
      "text/html": [
       "<div>\n",
       "<style scoped>\n",
       "    .dataframe tbody tr th:only-of-type {\n",
       "        vertical-align: middle;\n",
       "    }\n",
       "\n",
       "    .dataframe tbody tr th {\n",
       "        vertical-align: top;\n",
       "    }\n",
       "\n",
       "    .dataframe thead th {\n",
       "        text-align: right;\n",
       "    }\n",
       "</style>\n",
       "<table border=\"1\" class=\"dataframe\">\n",
       "  <thead>\n",
       "    <tr style=\"text-align: right;\">\n",
       "      <th></th>\n",
       "      <th>country</th>\n",
       "      <th>title</th>\n",
       "      <th>count</th>\n",
       "    </tr>\n",
       "  </thead>\n",
       "  <tbody>\n",
       "    <tr>\n",
       "      <th>0</th>\n",
       "      <td>Indonesia</td>\n",
       "      <td>Data Analyst</td>\n",
       "      <td>38</td>\n",
       "    </tr>\n",
       "    <tr>\n",
       "      <th>1</th>\n",
       "      <td>Indonesia</td>\n",
       "      <td>Data Engineer</td>\n",
       "      <td>13</td>\n",
       "    </tr>\n",
       "    <tr>\n",
       "      <th>2</th>\n",
       "      <td>Indonesia</td>\n",
       "      <td>Data Scientist</td>\n",
       "      <td>4</td>\n",
       "    </tr>\n",
       "    <tr>\n",
       "      <th>3</th>\n",
       "      <td>Philippines</td>\n",
       "      <td>Data Analyst</td>\n",
       "      <td>61</td>\n",
       "    </tr>\n",
       "    <tr>\n",
       "      <th>4</th>\n",
       "      <td>Philippines</td>\n",
       "      <td>Data Engineer</td>\n",
       "      <td>21</td>\n",
       "    </tr>\n",
       "    <tr>\n",
       "      <th>5</th>\n",
       "      <td>Philippines</td>\n",
       "      <td>Data Scientist</td>\n",
       "      <td>6</td>\n",
       "    </tr>\n",
       "  </tbody>\n",
       "</table>\n",
       "</div>"
      ],
      "text/plain": [
       "       country           title  count\n",
       "0    Indonesia    Data Analyst     38\n",
       "1    Indonesia   Data Engineer     13\n",
       "2    Indonesia  Data Scientist      4\n",
       "3  Philippines    Data Analyst     61\n",
       "4  Philippines   Data Engineer     21\n",
       "5  Philippines  Data Scientist      6"
      ]
     },
     "execution_count": 27,
     "metadata": {},
     "output_type": "execute_result"
    }
   ],
   "source": [
    "dfg5 = dfd.groupby('country')['title'].value_counts().groupby(level=0).head().reset_index()\n",
    "dfg5"
   ]
  },
  {
   "cell_type": "markdown",
   "metadata": {},
   "source": [
    "<a id='eda'></a>\n",
    "## Exploratory Data Analysis\n",
    "So after gathering 5 dataframes, we will make a function that can plot all 5 dataframes (since all of these 5 have the same structure: frequency of features that can be plotted with barplot). "
   ]
  },
  {
   "cell_type": "code",
   "execution_count": 28,
   "metadata": {},
   "outputs": [],
   "source": [
    "def custom_barplot(data, x_col, y_col, hue_col=None, order=None, title='', xlabel='', ylabel='', xrotation=None, hue_title_size=14):\n",
    "    \"\"\"\n",
    "    Custom bar plot function with annotations.\n",
    "    \n",
    "    Parameters:\n",
    "    - data: DataFrame containing the data\n",
    "    - x_col: Name of the column to be plotted on the x-axis\n",
    "    - y_col: Name of the column to be plotted on the y-axis\n",
    "    - hue_col: Name of the column for hue differentiation (default is None)\n",
    "    - order: Order for the x-axis values (default is None)\n",
    "    - title: Title of the plot\n",
    "    - xlabel: Label for the x-axis\n",
    "    - ylabel: Label for the y-axis\n",
    "    - xrotation: Rotation for the x-axis \n",
    "    - hue_title_size: Size of the hue title\n",
    "    \"\"\"\n",
    "    \n",
    "    # Common Parameters\n",
    "    color = sb.color_palette(\"deep\")[0]\n",
    "    title_fontsize = 15\n",
    "    axis_label_fontsize = 12\n",
    "\n",
    "    plt.figure(figsize=(15, 7))\n",
    "    if hue_col:\n",
    "        ax = sb.barplot(data=data, x=x_col, y=y_col, hue=hue_col, palette='deep', order=order)\n",
    "    else:\n",
    "        ax = sb.barplot(data=data, x=x_col, y=y_col, color=color, order=order)\n",
    "        \n",
    "    # Annotating bars with their values\n",
    "    for p in ax.patches:\n",
    "        ax.annotate(f'{int(p.get_height())}', (p.get_x() + p.get_width() / 2., p.get_height()),\n",
    "                    ha='center', va='center', fontsize=12, color='black', xytext=(0, 5),\n",
    "                    textcoords='offset points')\n",
    "\n",
    "    # Setting titles and labels\n",
    "    plt.title(title, fontsize=title_fontsize)\n",
    "    plt.xlabel(xlabel, fontsize=axis_label_fontsize)\n",
    "    plt.ylabel(ylabel, fontsize=axis_label_fontsize)\n",
    "    plt.xticks(rotation=xrotation, fontsize=axis_label_fontsize)\n",
    "    plt.yticks(fontsize=axis_label_fontsize)\n",
    "    if hue_col:\n",
    "        legend = plt.legend(title=hue_col, fontsize=axis_label_fontsize)\n",
    "        legend.get_title().set_fontsize(hue_title_size)\n",
    "    plt.show() #this will be removed in the app.py "
   ]
  },
  {
   "cell_type": "code",
   "execution_count": 29,
   "metadata": {},
   "outputs": [
    {
     "data": {
      "image/png": "[encoded data removed]",
      "text/plain": [
       "<Figure size 1500x700 with 1 Axes>"
      ]
     },
     "metadata": {},
     "output_type": "display_data"
    }
   ],
   "source": [
    "ordered_period = ['< 1 month', '1-2 months', '2-3 months', '> 3 months']\n",
    "custom_barplot(dfg1, 'post_period', 'count', order=ordered_period, title='Job Posting Active Period Distribution', xlabel='Post Period', ylabel='Count')"
   ]
  },
  {
   "cell_type": "markdown",
   "metadata": {},
   "source": [
    "We can conclude from the 1st dataframe that most of the companies that posting job often set their post under 2 months period"
   ]
  },
  {
   "cell_type": "code",
   "execution_count": 30,
   "metadata": {},
   "outputs": [
    {
     "data": {
      "image/png": "[encoded data removed]",
      "text/plain": [
       "<Figure size 1500x700 with 1 Axes>"
      ]
     },
     "metadata": {},
     "output_type": "display_data"
    }
   ],
   "source": [
    "custom_barplot(dfg2, 'title', 'count', title='Data-related Job Posting Distribution', xlabel='Title', ylabel='Count')"
   ]
  },
  {
   "cell_type": "markdown",
   "metadata": {},
   "source": [
    "In 2nd dataframe, most companies demand data analyst instead of both data engineer and data scientist combined "
   ]
  },
  {
   "cell_type": "code",
   "execution_count": 32,
   "metadata": {},
   "outputs": [
    {
     "data": {
      "image/png": "[encoded data removed]",
      "text/plain": [
       "<Figure size 1500x700 with 1 Axes>"
      ]
     },
     "metadata": {},
     "output_type": "display_data"
    }
   ],
   "source": [
    "custom_barplot(dfg3.head(10), 'city', 'count', title='Job Posting Distribution in Top 10 Indonesia Areas', xlabel='City', ylabel='Count', xrotation=35)"
   ]
  },
  {
   "cell_type": "markdown",
   "metadata": {},
   "source": [
    "We can see from the job posting distribution areas, Jakarta and Tangerang is either using Kalibrr site more than other cities or the demand of the data workers is higher than other areas.  "
   ]
  },
  {
   "cell_type": "code",
   "execution_count": 33,
   "metadata": {},
   "outputs": [
    {
     "data": {
      "image/png": "[encoded data removed]",
      "text/plain": [
       "<Figure size 1500x700 with 1 Axes>"
      ]
     },
     "metadata": {},
     "output_type": "display_data"
    }
   ],
   "source": [
    "custom_barplot(dfg4, 'post_period', 'count', 'country', order=ordered_period, title='Distribution of Data-related Job Posting Durations in Indonesia and Philippines', xlabel='Posting Period', ylabel='Number of Jobs')"
   ]
  },
  {
   "cell_type": "markdown",
   "metadata": {},
   "source": [
    "When we compared the data-related job postings duration between Indonesia and Philippines, both seems followed the same trends of concentrated a lot in the durations of fewer than 2 months durations and Philippines have more demand compared to Indonesia in data-related jobs "
   ]
  },
  {
   "cell_type": "code",
   "execution_count": 34,
   "metadata": {},
   "outputs": [
    {
     "data": {
      "image/png": "[encoded data removed]",
      "text/plain": [
       "<Figure size 1500x700 with 1 Axes>"
      ]
     },
     "metadata": {},
     "output_type": "display_data"
    }
   ],
   "source": [
    "custom_barplot(dfg5, 'title', 'count', 'country', title='Distribution of Data-related Job Posting in Indonesia and Philippines', xlabel='Job Titles', ylabel='Number of Jobs')"
   ]
  },
  {
   "cell_type": "markdown",
   "metadata": {},
   "source": [
    "In this last plot, the number of data analyst needed in Philippines are almost double the number of data analyst demand compared to Indonesia while both data scientist and data engineer are both almost similar in demand levels. "
   ]
  },
  {
   "cell_type": "markdown",
   "metadata": {},
   "source": [
    "<a id='conclusion'></a>\n",
    "## Conclusion\n",
    "After creating 5 plots from Kalibrr scraped data, we can copy all of the code and tweak some of it above into 'app.py' file and run it to see the plots on flask dashboard. from the process, We can some conclusions such as: \n",
    "- Philippines actually used Kalibrr and have higher demand than Indonesia in data-related jobs \n",
    "- Most companies posted their jobs in less than 2 months durations \n",
    "- Jakarta and Tangerang have the most demand for the jobs posted in Kalibrr than in other Indonesia areas \n",
    "- Data analyst are the most sought positions in Kalibrr compared to the other data-related jobs such as Data scientist or engineer \n",
    "\n",
    "### Reflection\n",
    "There are actually many parts which I have difficulties in doing this project since I have expanded the scope of above the asked projects:\n",
    "- Mistaking the demanded plot \n",
    "- Rewrite the entire 'style.css' and 'index.html' since the given files does not suited the given task \n",
    "- Debugging the flask aspect as well as integrating flask aspect for the code in 'app.py'\n",
    "- Limited time constraints \n",
    "- The job titles might not represent the accurate information (example: having data analyst job description but does not have the title of data analyst)  \n",
    "\n",
    "### Improvement\n",
    "If given more time, I would like to expand more on the untouched aspects of the dataframe such as the company names and job descriptions. You can have additional analyses such as Industry segemntations or Top Hirers by implementing the same process of location recategorizing above into company names. As mentioned above, we might be able to have more accurate representations of data-related job distributions and have additional text-based analyses such as keyword or sentiment analysis. \n",
    "\n",
    "By extending the scraping into expired job postings or previous years, we might be able to have time-series analysais that can detect the trend or even more advanced analyses sucs as correlation with external factors such as economic or industries indicatores to see whether it has impacts on each other (causing economic growth or downturns) "
   ]
  },
  {
   "cell_type": "markdown",
   "metadata": {},
   "source": [
    "<a id='references'></a>\n",
    "## References\n",
    "- [Official Selenium Documentation](https://www.selenium.dev/documentation/) \n",
    "- [Selenium with Python](https://selenium-python.readthedocs.io/) \n",
    "- [Beautiful Soup Documentation](https://www.crummy.com/software/BeautifulSoup/bs4/doc/#css-selectors)\n",
    "- [CSS Selectors Reference](https://www.w3schools.com/cssref/css_selectors.php)"
   ]
  }
 ],
 "metadata": {
  "kernelspec": {
   "display_name": "wizard_da",
   "language": "python",
   "name": "wizard_da"
  },
  "language_info": {
   "codemirror_mode": {
    "name": "ipython",
    "version": 3
   },
   "file_extension": ".py",
   "mimetype": "text/x-python",
   "name": "python",
   "nbconvert_exporter": "python",
   "pygments_lexer": "ipython3",
   "version": "3.10.12"
  }
 },
 "nbformat": 4,
 "nbformat_minor": 2
}
